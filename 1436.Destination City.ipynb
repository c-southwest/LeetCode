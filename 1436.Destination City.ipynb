{
 "cells": [
  {
   "cell_type": "code",
   "execution_count": 1,
   "metadata": {
    "dotnet_interactive": {
     "language": "csharp"
    },
    "polyglot_notebook": {
     "kernelName": "csharp"
    }
   },
   "outputs": [],
   "source": [
    "public string DestCity(IList<IList<string>> paths) {\n",
    "        HashSet<string> destSet = new HashSet<string>();\n",
    "        HashSet<string> origSet = new HashSet<string>();\n",
    "\n",
    "        foreach (var item in paths)\n",
    "        {\n",
    "            destSet.Add(item[1]);\n",
    "            origSet.Add(item[0]);\n",
    "        }\n",
    "        return destSet.Except(origSet).First<string>();\n",
    "}\n",
    "IList<IList<string>> paths = [[\"London\",\"New York\"],[\"New York\",\"Lima\"],[\"Lima\",\"Sao Paulo\"]];\n",
    "DestCity(paths);"
   ]
  },
  {
   "cell_type": "code",
   "execution_count": 2,
   "metadata": {
    "dotnet_interactive": {
     "language": "csharp"
    },
    "polyglot_notebook": {
     "kernelName": "csharp"
    }
   },
   "outputs": [
    {
     "name": "stdout",
     "output_type": "stream",
     "text": [
      "Sao Paulo\r\n"
     ]
    }
   ],
   "source": [
    "public string DestCity(IList<IList<string>> paths) {\n",
    "        HashSet<string> origSet = new HashSet<string>();\n",
    "        foreach (var item in paths)\n",
    "        {\n",
    "            origSet.Add(item[0]);\n",
    "        }\n",
    "        foreach (var item in paths)\n",
    "        {\n",
    "            if(!origSet.Contains<string>(item[1])){\n",
    "                //Console.WriteLine(item[1]);\n",
    "                return item[1];\n",
    "            }\n",
    "        }\n",
    "        return \"\";\n",
    "}\n",
    "IList<IList<string>> paths = [[\"London\",\"New York\"],[\"New York\",\"Lima\"],[\"Lima\",\"Sao Paulo\"]];\n",
    "DestCity(paths);"
   ]
  },
  {
   "cell_type": "code",
   "execution_count": null,
   "metadata": {
    "dotnet_interactive": {
     "language": "csharp"
    },
    "polyglot_notebook": {
     "kernelName": "csharp"
    }
   },
   "outputs": [],
   "source": []
  },
  {
   "cell_type": "code",
   "execution_count": null,
   "metadata": {
    "dotnet_interactive": {
     "language": "csharp"
    },
    "polyglot_notebook": {
     "kernelName": "csharp"
    }
   },
   "outputs": [],
   "source": []
  }
 ],
 "metadata": {
  "kernelspec": {
   "display_name": ".NET (C#)",
   "language": "C#",
   "name": ".net-csharp"
  },
  "language_info": {
   "name": "polyglot-notebook"
  },
  "polyglot_notebook": {
   "kernelInfo": {
    "defaultKernelName": "csharp",
    "items": [
     {
      "aliases": [],
      "languageName": "csharp",
      "name": "csharp"
     }
    ]
   }
  }
 },
 "nbformat": 4,
 "nbformat_minor": 2
}
